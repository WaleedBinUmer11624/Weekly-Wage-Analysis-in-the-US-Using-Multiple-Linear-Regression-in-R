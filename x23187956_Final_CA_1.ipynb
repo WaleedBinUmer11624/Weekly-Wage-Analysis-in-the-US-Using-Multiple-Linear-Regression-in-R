{
 "cells": [
  {
   "cell_type": "markdown",
   "metadata": {
    "id": "IWHcd6b6i7Id"
   },
   "source": [
    "# Utilities"
   ]
  },
  {
   "cell_type": "code",
   "execution_count": 1,
   "metadata": {
    "id": "JUOSZeok4Es0"
   },
   "outputs": [],
   "source": [
    "histogram <- function(x)\n",
    "{\n",
    "#generate title for histogram\n",
    "title <- paste(deparse(substitute(x), 500), collapse=\"\\n\")\n",
    "#calculate the standard deviation of the input vector x\n",
    "sdx <- sd(x)\n",
    "#calculate the mean of the input vector x\n",
    "mx <- mean(x)\n",
    "#create histogram with title,limits and probabilities\n",
    "hist(x, prob=TRUE,\n",
    "main=paste(\"Histogram of \",title),\n",
    "xlim=c(mx-3*sdx, mx+3*sdx), ylim=c(0, 0.5/sdx))\n",
    "curve(dnorm(x, mean=mx, sd=sdx), col='red', lwd=3, add=TRUE)\n",
    "}"
   ]
  },
  {
   "cell_type": "markdown",
   "metadata": {
    "id": "mQe_U7yCjezh"
   },
   "source": [
    "## Install package"
   ]
  },
  {
   "cell_type": "code",
   "execution_count": 2,
   "metadata": {
    "colab": {
     "base_uri": "https://localhost:8080/"
    },
    "id": "nj6kDw08jenV",
    "outputId": "f777be48-0611-4047-ee92-a58371e09cbb"
   },
   "outputs": [
    {
     "name": "stderr",
     "output_type": "stream",
     "text": [
      "Warning message:\n",
      "\"dependency 'pbkrtest' is not available\"\n",
      "also installing the dependencies 'diffobj', 'brio', 'callr', 'cli', 'digest', 'jsonlite', 'lifecycle', 'magrittr', 'pkgload', 'processx', 'ps', 'rlang', 'waldo', 'Matrix', 'testthat', 'SparseM', 'MatrixModels', 'minqa', 'nloptr', 'RcppEigen', 'quantreg', 'lme4'\n",
      "\n",
      "\n",
      "Warning message:\n",
      "\"unable to access index for repository http://cran.rstudio.com/bin/windows/contrib/3.6:\n",
      "  cannot open URL 'http://cran.rstudio.com/bin/windows/contrib/3.6/PACKAGES'\"\n",
      "Packages which are only available in source form, and may need\n",
      "  compilation of C/C++/Fortran: 'diffobj' 'brio' 'cli' 'digest'\n",
      "  'jsonlite' 'magrittr' 'processx' 'ps' 'rlang' 'Matrix' 'testthat'\n",
      "  'SparseM' 'minqa' 'nloptr' 'RcppEigen' 'quantreg' 'lme4'\n",
      "\n"
     ]
    },
    {
     "name": "stdout",
     "output_type": "stream",
     "text": [
      "  These will not be installed\n"
     ]
    },
    {
     "name": "stderr",
     "output_type": "stream",
     "text": [
      "installing the source packages 'callr', 'lifecycle', 'pkgload', 'waldo', 'MatrixModels', 'car'\n",
      "\n",
      "\n",
      "Warning message in install.packages(\"car\", repos = \"http://cran.rstudio.com/\"):\n",
      "\"installation of package 'callr' had non-zero exit status\"\n",
      "Warning message in install.packages(\"car\", repos = \"http://cran.rstudio.com/\"):\n",
      "\"installation of package 'lifecycle' had non-zero exit status\"\n",
      "Warning message in install.packages(\"car\", repos = \"http://cran.rstudio.com/\"):\n",
      "\"installation of package 'pkgload' had non-zero exit status\"\n",
      "Warning message in install.packages(\"car\", repos = \"http://cran.rstudio.com/\"):\n",
      "\"installation of package 'waldo' had non-zero exit status\"\n",
      "Warning message in install.packages(\"car\", repos = \"http://cran.rstudio.com/\"):\n",
      "\"installation of package 'MatrixModels' had non-zero exit status\"\n",
      "Warning message in install.packages(\"car\", repos = \"http://cran.rstudio.com/\"):\n",
      "\"installation of package 'car' had non-zero exit status\"\n"
     ]
    }
   ],
   "source": [
    "#install car package\n",
    "#install.packages('car', repos='http://cran.rstudio.com/')"
   ]
  },
  {
   "cell_type": "markdown",
   "metadata": {
    "id": "12GKAqurjyTB"
   },
   "source": [
    "# Loading library"
   ]
  },
  {
   "cell_type": "code",
   "execution_count": 2,
   "metadata": {
    "id": "Km8NEW7ejtTj"
   },
   "outputs": [
    {
     "ename": "ERROR",
     "evalue": "Error in library(car): there is no package called 'car'\n",
     "output_type": "error",
     "traceback": [
      "Error in library(car): there is no package called 'car'\nTraceback:\n",
      "1. library(car)"
     ]
    }
   ],
   "source": [
    "#load the car package\n",
    "library(car)\n",
    "#load the ggplot package\n",
    "library(ggplot2)"
   ]
  },
  {
   "cell_type": "markdown",
   "metadata": {
    "id": "2uiGbB_dj_K1"
   },
   "source": [
    "# Loading Data"
   ]
  },
  {
   "cell_type": "code",
   "execution_count": 5,
   "metadata": {
    "id": "7O_wC3KSjtQ-"
   },
   "outputs": [],
   "source": [
    "#Read the data from file called \"microwage.csv\" into a dataframe named as microwage_data\n",
    "microwage_data <- read.csv(\"C:/Users/walee/Downloads/microwage.csv\")"
   ]
  },
  {
   "cell_type": "code",
   "execution_count": 6,
   "metadata": {
    "colab": {
     "base_uri": "https://localhost:8080/",
     "height": 286
    },
    "id": "GIB8KORsjtOW",
    "outputId": "69758894-5ed6-4086-f48c-7f166c2307ea"
   },
   "outputs": [
    {
     "data": {
      "text/html": [
       "<table>\n",
       "<thead><tr><th scope=col>region</th><th scope=col>statefip</th><th scope=col>metaread</th><th scope=col>puma</th><th scope=col>perwt</th><th scope=col>age</th><th scope=col>female</th><th scope=col>race_nonwhite</th><th scope=col>edyrs</th><th scope=col>occ_managprof</th><th scope=col>occ_techsalad</th><th scope=col>occ_service</th><th scope=col>occ_farm</th><th scope=col>occ_product</th><th scope=col>occ_operator</th><th scope=col>occ_service_np</th><th scope=col>occ_service_broad</th><th scope=col>industry</th><th scope=col>expyrs</th><th scope=col>wkwage</th></tr></thead>\n",
       "<tbody>\n",
       "\t<tr><td>42        </td><td> 6        </td><td>5170      </td><td>2601      </td><td> 74       </td><td>19        </td><td>0         </td><td>0         </td><td>11.99     </td><td>0         </td><td>0         </td><td>0         </td><td>0         </td><td>0         </td><td>1         </td><td>0         </td><td>0         </td><td>10        </td><td> 1.01     </td><td>  92.85714</td></tr>\n",
       "\t<tr><td>21        </td><td>26        </td><td>3720      </td><td>2602      </td><td> 37       </td><td>27        </td><td>0         </td><td>0         </td><td> 3.19     </td><td>0         </td><td>0         </td><td>0         </td><td>0         </td><td>0         </td><td>1         </td><td>0         </td><td>0         </td><td>10        </td><td>11.00     </td><td> 196.07843</td></tr>\n",
       "\t<tr><td>42        </td><td> 6        </td><td> 680      </td><td>3901      </td><td> 91       </td><td>30        </td><td>0         </td><td>0         </td><td>11.99     </td><td>0         </td><td>0         </td><td>1         </td><td>0         </td><td>0         </td><td>0         </td><td>1         </td><td>1         </td><td>10        </td><td>12.01     </td><td> 517.64709</td></tr>\n",
       "\t<tr><td>42        </td><td> 6        </td><td>6780      </td><td>7802      </td><td>219       </td><td>21        </td><td>1         </td><td>0         </td><td>13.35     </td><td>0         </td><td>0         </td><td>0         </td><td>1         </td><td>0         </td><td>0         </td><td>0         </td><td>0         </td><td>10        </td><td> 1.65     </td><td> 490.19608</td></tr>\n",
       "\t<tr><td>42        </td><td> 6        </td><td>7470      </td><td>6701      </td><td> 55       </td><td>40        </td><td>1         </td><td>0         </td><td> 7.23     </td><td>0         </td><td>0         </td><td>0         </td><td>1         </td><td>0         </td><td>0         </td><td>0         </td><td>0         </td><td>10        </td><td>24.00     </td><td> 137.25491</td></tr>\n",
       "\t<tr><td>42        </td><td> 6        </td><td>8120      </td><td>1901      </td><td> 49       </td><td>42        </td><td>1         </td><td>0         </td><td>12.00     </td><td>0         </td><td>0         </td><td>0         </td><td>0         </td><td>0         </td><td>1         </td><td>0         </td><td>1         </td><td>10        </td><td>24.00     </td><td>1714.28577</td></tr>\n",
       "</tbody>\n",
       "</table>\n"
      ],
      "text/latex": [
       "\\begin{tabular}{r|llllllllllllllllllll}\n",
       " region & statefip & metaread & puma & perwt & age & female & race\\_nonwhite & edyrs & occ\\_managprof & occ\\_techsalad & occ\\_service & occ\\_farm & occ\\_product & occ\\_operator & occ\\_service\\_np & occ\\_service\\_broad & industry & expyrs & wkwage\\\\\n",
       "\\hline\n",
       "\t 42         &  6         & 5170       & 2601       &  74        & 19         & 0          & 0          & 11.99      & 0          & 0          & 0          & 0          & 0          & 1          & 0          & 0          & 10         &  1.01      &   92.85714\\\\\n",
       "\t 21         & 26         & 3720       & 2602       &  37        & 27         & 0          & 0          &  3.19      & 0          & 0          & 0          & 0          & 0          & 1          & 0          & 0          & 10         & 11.00      &  196.07843\\\\\n",
       "\t 42         &  6         &  680       & 3901       &  91        & 30         & 0          & 0          & 11.99      & 0          & 0          & 1          & 0          & 0          & 0          & 1          & 1          & 10         & 12.01      &  517.64709\\\\\n",
       "\t 42         &  6         & 6780       & 7802       & 219        & 21         & 1          & 0          & 13.35      & 0          & 0          & 0          & 1          & 0          & 0          & 0          & 0          & 10         &  1.65      &  490.19608\\\\\n",
       "\t 42         &  6         & 7470       & 6701       &  55        & 40         & 1          & 0          &  7.23      & 0          & 0          & 0          & 1          & 0          & 0          & 0          & 0          & 10         & 24.00      &  137.25491\\\\\n",
       "\t 42         &  6         & 8120       & 1901       &  49        & 42         & 1          & 0          & 12.00      & 0          & 0          & 0          & 0          & 0          & 1          & 0          & 1          & 10         & 24.00      & 1714.28577\\\\\n",
       "\\end{tabular}\n"
      ],
      "text/markdown": [
       "\n",
       "| region | statefip | metaread | puma | perwt | age | female | race_nonwhite | edyrs | occ_managprof | occ_techsalad | occ_service | occ_farm | occ_product | occ_operator | occ_service_np | occ_service_broad | industry | expyrs | wkwage |\n",
       "|---|---|---|---|---|---|---|---|---|---|---|---|---|---|---|---|---|---|---|---|\n",
       "| 42         |  6         | 5170       | 2601       |  74        | 19         | 0          | 0          | 11.99      | 0          | 0          | 0          | 0          | 0          | 1          | 0          | 0          | 10         |  1.01      |   92.85714 |\n",
       "| 21         | 26         | 3720       | 2602       |  37        | 27         | 0          | 0          |  3.19      | 0          | 0          | 0          | 0          | 0          | 1          | 0          | 0          | 10         | 11.00      |  196.07843 |\n",
       "| 42         |  6         |  680       | 3901       |  91        | 30         | 0          | 0          | 11.99      | 0          | 0          | 1          | 0          | 0          | 0          | 1          | 1          | 10         | 12.01      |  517.64709 |\n",
       "| 42         |  6         | 6780       | 7802       | 219        | 21         | 1          | 0          | 13.35      | 0          | 0          | 0          | 1          | 0          | 0          | 0          | 0          | 10         |  1.65      |  490.19608 |\n",
       "| 42         |  6         | 7470       | 6701       |  55        | 40         | 1          | 0          |  7.23      | 0          | 0          | 0          | 1          | 0          | 0          | 0          | 0          | 10         | 24.00      |  137.25491 |\n",
       "| 42         |  6         | 8120       | 1901       |  49        | 42         | 1          | 0          | 12.00      | 0          | 0          | 0          | 0          | 0          | 1          | 0          | 1          | 10         | 24.00      | 1714.28577 |\n",
       "\n"
      ],
      "text/plain": [
       "  region statefip metaread puma perwt age female race_nonwhite edyrs\n",
       "1 42      6       5170     2601  74   19  0      0             11.99\n",
       "2 21     26       3720     2602  37   27  0      0              3.19\n",
       "3 42      6        680     3901  91   30  0      0             11.99\n",
       "4 42      6       6780     7802 219   21  1      0             13.35\n",
       "5 42      6       7470     6701  55   40  1      0              7.23\n",
       "6 42      6       8120     1901  49   42  1      0             12.00\n",
       "  occ_managprof occ_techsalad occ_service occ_farm occ_product occ_operator\n",
       "1 0             0             0           0        0           1           \n",
       "2 0             0             0           0        0           1           \n",
       "3 0             0             1           0        0           0           \n",
       "4 0             0             0           1        0           0           \n",
       "5 0             0             0           1        0           0           \n",
       "6 0             0             0           0        0           1           \n",
       "  occ_service_np occ_service_broad industry expyrs wkwage    \n",
       "1 0              0                 10        1.01    92.85714\n",
       "2 0              0                 10       11.00   196.07843\n",
       "3 1              1                 10       12.01   517.64709\n",
       "4 0              0                 10        1.65   490.19608\n",
       "5 0              0                 10       24.00   137.25491\n",
       "6 0              1                 10       24.00  1714.28577"
      ]
     },
     "metadata": {},
     "output_type": "display_data"
    }
   ],
   "source": [
    "#call the head function to display the first few rows of dataframe\n",
    "head(microwage_data)"
   ]
  },
  {
   "cell_type": "code",
   "execution_count": 7,
   "metadata": {
    "colab": {
     "base_uri": "https://localhost:8080/",
     "height": 286
    },
    "id": "43a7mSQijtLq",
    "outputId": "335a84d3-aab2-40a6-91ef-0e7f11cac949"
   },
   "outputs": [
    {
     "data": {
      "text/html": [
       "<table>\n",
       "<thead><tr><th></th><th scope=col>region</th><th scope=col>statefip</th><th scope=col>metaread</th><th scope=col>puma</th><th scope=col>perwt</th><th scope=col>age</th><th scope=col>female</th><th scope=col>race_nonwhite</th><th scope=col>edyrs</th><th scope=col>occ_managprof</th><th scope=col>occ_techsalad</th><th scope=col>occ_service</th><th scope=col>occ_farm</th><th scope=col>occ_product</th><th scope=col>occ_operator</th><th scope=col>occ_service_np</th><th scope=col>occ_service_broad</th><th scope=col>industry</th><th scope=col>expyrs</th><th scope=col>wkwage</th></tr></thead>\n",
       "<tbody>\n",
       "\t<tr><th scope=row>1349253</th><td>33       </td><td>40       </td><td>   0     </td><td>1600     </td><td> 28      </td><td>62       </td><td>0        </td><td>0        </td><td>16.17    </td><td>1        </td><td>0        </td><td>0        </td><td>0        </td><td>0        </td><td>0        </td><td>0        </td><td>0        </td><td>932      </td><td>39.83    </td><td>1647.0588</td></tr>\n",
       "\t<tr><th scope=row>1349254</th><td>12       </td><td>36       </td><td>5600     </td><td>4010     </td><td>243      </td><td>27       </td><td>0        </td><td>1        </td><td>13.57    </td><td>0        </td><td>0        </td><td>0        </td><td>0        </td><td>1        </td><td>0        </td><td>0        </td><td>0        </td><td>932      </td><td> 7.43    </td><td> 242.4242</td></tr>\n",
       "\t<tr><th scope=row>1349255</th><td>31       </td><td>24       </td><td>8840     </td><td>1105     </td><td>108      </td><td>48       </td><td>0        </td><td>0        </td><td>14.23    </td><td>1        </td><td>0        </td><td>0        </td><td>0        </td><td>0        </td><td>0        </td><td>0        </td><td>0        </td><td>932      </td><td>27.77    </td><td>2058.8235</td></tr>\n",
       "\t<tr><th scope=row>1349256</th><td>21       </td><td>17       </td><td>1600     </td><td>3203     </td><td> 92      </td><td>23       </td><td>0        </td><td>0        </td><td>14.23    </td><td>0        </td><td>1        </td><td>0        </td><td>0        </td><td>0        </td><td>0        </td><td>0        </td><td>0        </td><td>932      </td><td> 2.77    </td><td> 392.1569</td></tr>\n",
       "\t<tr><th scope=row>1349257</th><td>31       </td><td>24       </td><td> 720     </td><td> 400     </td><td> 67      </td><td>56       </td><td>0        </td><td>0        </td><td>17.68    </td><td>0        </td><td>0        </td><td>1        </td><td>0        </td><td>0        </td><td>0        </td><td>1        </td><td>1        </td><td>932      </td><td>32.32    </td><td> 613.7255</td></tr>\n",
       "\t<tr><th scope=row>1349258</th><td>22       </td><td>29       </td><td>   0     </td><td>2000     </td><td> 80      </td><td>54       </td><td>1        </td><td>0        </td><td>13.35    </td><td>1        </td><td>0        </td><td>0        </td><td>0        </td><td>0        </td><td>0        </td><td>0        </td><td>0        </td><td>932      </td><td>34.65    </td><td> 705.8823</td></tr>\n",
       "</tbody>\n",
       "</table>\n"
      ],
      "text/latex": [
       "\\begin{tabular}{r|llllllllllllllllllll}\n",
       "  & region & statefip & metaread & puma & perwt & age & female & race\\_nonwhite & edyrs & occ\\_managprof & occ\\_techsalad & occ\\_service & occ\\_farm & occ\\_product & occ\\_operator & occ\\_service\\_np & occ\\_service\\_broad & industry & expyrs & wkwage\\\\\n",
       "\\hline\n",
       "\t1349253 & 33        & 40        &    0      & 1600      &  28       & 62        & 0         & 0         & 16.17     & 1         & 0         & 0         & 0         & 0         & 0         & 0         & 0         & 932       & 39.83     & 1647.0588\\\\\n",
       "\t1349254 & 12        & 36        & 5600      & 4010      & 243       & 27        & 0         & 1         & 13.57     & 0         & 0         & 0         & 0         & 1         & 0         & 0         & 0         & 932       &  7.43     &  242.4242\\\\\n",
       "\t1349255 & 31        & 24        & 8840      & 1105      & 108       & 48        & 0         & 0         & 14.23     & 1         & 0         & 0         & 0         & 0         & 0         & 0         & 0         & 932       & 27.77     & 2058.8235\\\\\n",
       "\t1349256 & 21        & 17        & 1600      & 3203      &  92       & 23        & 0         & 0         & 14.23     & 0         & 1         & 0         & 0         & 0         & 0         & 0         & 0         & 932       &  2.77     &  392.1569\\\\\n",
       "\t1349257 & 31        & 24        &  720      &  400      &  67       & 56        & 0         & 0         & 17.68     & 0         & 0         & 1         & 0         & 0         & 0         & 1         & 1         & 932       & 32.32     &  613.7255\\\\\n",
       "\t1349258 & 22        & 29        &    0      & 2000      &  80       & 54        & 1         & 0         & 13.35     & 1         & 0         & 0         & 0         & 0         & 0         & 0         & 0         & 932       & 34.65     &  705.8823\\\\\n",
       "\\end{tabular}\n"
      ],
      "text/markdown": [
       "\n",
       "| <!--/--> | region | statefip | metaread | puma | perwt | age | female | race_nonwhite | edyrs | occ_managprof | occ_techsalad | occ_service | occ_farm | occ_product | occ_operator | occ_service_np | occ_service_broad | industry | expyrs | wkwage |\n",
       "|---|---|---|---|---|---|---|---|---|---|---|---|---|---|---|---|---|---|---|---|---|\n",
       "| 1349253 | 33        | 40        |    0      | 1600      |  28       | 62        | 0         | 0         | 16.17     | 1         | 0         | 0         | 0         | 0         | 0         | 0         | 0         | 932       | 39.83     | 1647.0588 |\n",
       "| 1349254 | 12        | 36        | 5600      | 4010      | 243       | 27        | 0         | 1         | 13.57     | 0         | 0         | 0         | 0         | 1         | 0         | 0         | 0         | 932       |  7.43     |  242.4242 |\n",
       "| 1349255 | 31        | 24        | 8840      | 1105      | 108       | 48        | 0         | 0         | 14.23     | 1         | 0         | 0         | 0         | 0         | 0         | 0         | 0         | 932       | 27.77     | 2058.8235 |\n",
       "| 1349256 | 21        | 17        | 1600      | 3203      |  92       | 23        | 0         | 0         | 14.23     | 0         | 1         | 0         | 0         | 0         | 0         | 0         | 0         | 932       |  2.77     |  392.1569 |\n",
       "| 1349257 | 31        | 24        |  720      |  400      |  67       | 56        | 0         | 0         | 17.68     | 0         | 0         | 1         | 0         | 0         | 0         | 1         | 1         | 932       | 32.32     |  613.7255 |\n",
       "| 1349258 | 22        | 29        |    0      | 2000      |  80       | 54        | 1         | 0         | 13.35     | 1         | 0         | 0         | 0         | 0         | 0         | 0         | 0         | 932       | 34.65     |  705.8823 |\n",
       "\n"
      ],
      "text/plain": [
       "        region statefip metaread puma perwt age female race_nonwhite edyrs\n",
       "1349253 33     40          0     1600  28   62  0      0             16.17\n",
       "1349254 12     36       5600     4010 243   27  0      1             13.57\n",
       "1349255 31     24       8840     1105 108   48  0      0             14.23\n",
       "1349256 21     17       1600     3203  92   23  0      0             14.23\n",
       "1349257 31     24        720      400  67   56  0      0             17.68\n",
       "1349258 22     29          0     2000  80   54  1      0             13.35\n",
       "        occ_managprof occ_techsalad occ_service occ_farm occ_product\n",
       "1349253 1             0             0           0        0          \n",
       "1349254 0             0             0           0        1          \n",
       "1349255 1             0             0           0        0          \n",
       "1349256 0             1             0           0        0          \n",
       "1349257 0             0             1           0        0          \n",
       "1349258 1             0             0           0        0          \n",
       "        occ_operator occ_service_np occ_service_broad industry expyrs wkwage   \n",
       "1349253 0            0              0                 932      39.83  1647.0588\n",
       "1349254 0            0              0                 932       7.43   242.4242\n",
       "1349255 0            0              0                 932      27.77  2058.8235\n",
       "1349256 0            0              0                 932       2.77   392.1569\n",
       "1349257 0            1              1                 932      32.32   613.7255\n",
       "1349258 0            0              0                 932      34.65   705.8823"
      ]
     },
     "metadata": {},
     "output_type": "display_data"
    }
   ],
   "source": [
    "#call the tail function to disply last few columns of dataframe\n",
    "tail(microwage_data)"
   ]
  },
  {
   "cell_type": "code",
   "execution_count": 8,
   "metadata": {
    "colab": {
     "base_uri": "https://localhost:8080/",
     "height": 34
    },
    "id": "SegmYDIJjtIw",
    "outputId": "9e20472d-aa9b-4475-e8e8-b45a39ac282a"
   },
   "outputs": [
    {
     "data": {
      "text/html": [
       "1349258"
      ],
      "text/latex": [
       "1349258"
      ],
      "text/markdown": [
       "1349258"
      ],
      "text/plain": [
       "[1] 1349258"
      ]
     },
     "metadata": {},
     "output_type": "display_data"
    }
   ],
   "source": [
    "#determine the number of rows in the dataframe\n",
    "nrow(microwage_data)"
   ]
  },
  {
   "cell_type": "code",
   "execution_count": 10,
   "metadata": {
    "colab": {
     "base_uri": "https://localhost:8080/",
     "height": 34
    },
    "id": "Hr3HbRdVjtF9",
    "outputId": "0e753b49-226a-43ef-e7ea-33643c33ac5c"
   },
   "outputs": [
    {
     "data": {
      "text/html": [
       "20"
      ],
      "text/latex": [
       "20"
      ],
      "text/markdown": [
       "20"
      ],
      "text/plain": [
       "[1] 20"
      ]
     },
     "metadata": {},
     "output_type": "display_data"
    }
   ],
   "source": [
    "#determine the number of columns in the dataframe\n",
    "ncol(microwage_data)"
   ]
  },
  {
   "cell_type": "code",
   "execution_count": 11,
   "metadata": {
    "colab": {
     "base_uri": "https://localhost:8080/",
     "height": 625
    },
    "id": "DuN4v4AIjtDA",
    "outputId": "4ca01ef8-160d-4fe3-b7f4-dd4c3b0fc58c"
   },
   "outputs": [
    {
     "data": {
      "text/plain": [
       "     region         statefip        metaread         puma      \n",
       " Min.   :11.00   Min.   : 1.00   Min.   :   0   Min.   :  100  \n",
       " 1st Qu.:21.00   1st Qu.:13.00   1st Qu.:   0   1st Qu.:  800  \n",
       " Median :31.00   Median :27.00   Median :3120   Median : 1800  \n",
       " Mean   :27.83   Mean   :27.85   Mean   :3393   Mean   : 2210  \n",
       " 3rd Qu.:33.00   3rd Qu.:41.00   3rd Qu.:5960   3rd Qu.: 3202  \n",
       " Max.   :42.00   Max.   :56.00   Max.   :9360   Max.   :77777  \n",
       "     perwt             age            female       race_nonwhite   \n",
       " Min.   :   1.0   Min.   :17.00   Min.   :0.0000   Min.   :0.0000  \n",
       " 1st Qu.:  64.0   1st Qu.:29.00   1st Qu.:0.0000   1st Qu.:0.0000  \n",
       " Median :  85.0   Median :41.00   Median :0.0000   Median :0.0000  \n",
       " Mean   : 104.7   Mean   :40.47   Mean   :0.4989   Mean   :0.1602  \n",
       " 3rd Qu.: 118.0   3rd Qu.:51.00   3rd Qu.:1.0000   3rd Qu.:0.0000  \n",
       " Max.   :1954.0   Max.   :65.00   Max.   :1.0000   Max.   :1.0000  \n",
       "     edyrs       occ_managprof    occ_techsalad     occ_service    \n",
       " Min.   : 0.00   Min.   :0.0000   Min.   :0.0000   Min.   :0.0000  \n",
       " 1st Qu.:12.00   1st Qu.:0.0000   1st Qu.:0.0000   1st Qu.:0.0000  \n",
       " Median :13.48   Median :0.0000   Median :0.0000   Median :0.0000  \n",
       " Mean   :13.65   Mean   :0.3188   Mean   :0.2981   Mean   :0.1645  \n",
       " 3rd Qu.:16.15   3rd Qu.:1.0000   3rd Qu.:1.0000   3rd Qu.:0.0000  \n",
       " Max.   :18.00   Max.   :1.0000   Max.   :1.0000   Max.   :1.0000  \n",
       "    occ_farm         occ_product       occ_operator    occ_service_np  \n",
       " Min.   :0.000000   Min.   :0.00000   Min.   :0.0000   Min.   :0.0000  \n",
       " 1st Qu.:0.000000   1st Qu.:0.00000   1st Qu.:0.0000   1st Qu.:0.0000  \n",
       " Median :0.000000   Median :0.00000   Median :0.0000   Median :0.0000  \n",
       " Mean   :0.008651   Mean   :0.09236   Mean   :0.1176   Mean   :0.1512  \n",
       " 3rd Qu.:0.000000   3rd Qu.:0.00000   3rd Qu.:0.0000   3rd Qu.:0.0000  \n",
       " Max.   :1.000000   Max.   :1.00000   Max.   :1.0000   Max.   :1.0000  \n",
       " occ_service_broad    industry         expyrs          wkwage         \n",
       " Min.   :0.0000    Min.   : 10.0   Min.   : 0.00   Min.   :    2.206  \n",
       " 1st Qu.:0.0000    1st Qu.:432.0   1st Qu.: 9.00   1st Qu.:  350.000  \n",
       " Median :0.0000    Median :700.0   Median :21.01   Median :  647.059  \n",
       " Mean   :0.2552    Mean   :614.1   Mean   :20.68   Mean   :  864.073  \n",
       " 3rd Qu.:1.0000    3rd Qu.:840.0   3rd Qu.:31.52   3rd Qu.: 1078.431  \n",
       " Max.   :1.0000    Max.   :932.0   Max.   :49.00   Max.   :15000.000  "
      ]
     },
     "metadata": {},
     "output_type": "display_data"
    }
   ],
   "source": [
    "#generate summary statistics for each variable in the dataframe\n",
    "summary(microwage_data)"
   ]
  },
  {
   "cell_type": "code",
   "execution_count": 12,
   "metadata": {
    "colab": {
     "base_uri": "https://localhost:8080/"
    },
    "id": "9c1lLwJGjtAN",
    "outputId": "32f0b236-5c73-4ac1-85c7-b3527eef2972"
   },
   "outputs": [
    {
     "name": "stdout",
     "output_type": "stream",
     "text": [
      "'data.frame':\t1349258 obs. of  20 variables:\n",
      " $ region           : int  42 21 42 42 42 42 12 22 42 22 ...\n",
      " $ statefip         : int  6 26 6 6 6 6 42 31 6 29 ...\n",
      " $ metaread         : int  5170 3720 680 6780 7470 8120 6680 0 7120 0 ...\n",
      " $ puma             : int  2601 2602 3901 7802 6701 1901 3401 300 2900 2200 ...\n",
      " $ perwt            : int  74 37 91 219 55 49 127 61 73 89 ...\n",
      " $ age              : int  19 27 30 21 40 42 25 27 42 33 ...\n",
      " $ female           : int  0 0 0 1 1 1 0 0 0 1 ...\n",
      " $ race_nonwhite    : int  0 0 0 0 0 0 0 0 0 0 ...\n",
      " $ edyrs            : num  11.99 3.19 11.99 13.35 7.23 ...\n",
      " $ occ_managprof    : int  0 0 0 0 0 0 0 0 1 0 ...\n",
      " $ occ_techsalad    : int  0 0 0 0 0 0 0 0 0 1 ...\n",
      " $ occ_service      : int  0 0 1 0 0 0 0 0 0 0 ...\n",
      " $ occ_farm         : int  0 0 0 1 1 0 1 1 0 0 ...\n",
      " $ occ_product      : int  0 0 0 0 0 0 0 0 0 0 ...\n",
      " $ occ_operator     : int  1 1 0 0 0 1 0 0 0 0 ...\n",
      " $ occ_service_np   : int  0 0 1 0 0 0 0 0 0 0 ...\n",
      " $ occ_service_broad: int  0 0 1 0 0 1 0 0 0 0 ...\n",
      " $ industry         : int  10 10 10 10 10 10 10 10 10 10 ...\n",
      " $ expyrs           : num  1.01 11 12.01 1.65 24 ...\n",
      " $ wkwage           : num  92.9 196.1 517.6 490.2 137.3 ...\n"
     ]
    }
   ],
   "source": [
    "#generate concise summary of the structure of the dataframe\n",
    "str(microwage_data)"
   ]
  },
  {
   "cell_type": "code",
   "execution_count": 13,
   "metadata": {
    "colab": {
     "base_uri": "https://localhost:8080/",
     "height": 52
    },
    "id": "JbPeVwd9js9e",
    "outputId": "7ff902c7-3e87-49bf-c5f2-ae81819cd572"
   },
   "outputs": [
    {
     "data": {
      "text/html": [
       "<dl class=dl-horizontal>\n",
       "\t<dt>region</dt>\n",
       "\t\t<dd>0</dd>\n",
       "\t<dt>statefip</dt>\n",
       "\t\t<dd>0</dd>\n",
       "\t<dt>metaread</dt>\n",
       "\t\t<dd>0</dd>\n",
       "\t<dt>puma</dt>\n",
       "\t\t<dd>0</dd>\n",
       "\t<dt>perwt</dt>\n",
       "\t\t<dd>0</dd>\n",
       "\t<dt>age</dt>\n",
       "\t\t<dd>0</dd>\n",
       "\t<dt>female</dt>\n",
       "\t\t<dd>0</dd>\n",
       "\t<dt>race_nonwhite</dt>\n",
       "\t\t<dd>0</dd>\n",
       "\t<dt>edyrs</dt>\n",
       "\t\t<dd>0</dd>\n",
       "\t<dt>occ_managprof</dt>\n",
       "\t\t<dd>0</dd>\n",
       "\t<dt>occ_techsalad</dt>\n",
       "\t\t<dd>0</dd>\n",
       "\t<dt>occ_service</dt>\n",
       "\t\t<dd>0</dd>\n",
       "\t<dt>occ_farm</dt>\n",
       "\t\t<dd>0</dd>\n",
       "\t<dt>occ_product</dt>\n",
       "\t\t<dd>0</dd>\n",
       "\t<dt>occ_operator</dt>\n",
       "\t\t<dd>0</dd>\n",
       "\t<dt>occ_service_np</dt>\n",
       "\t\t<dd>0</dd>\n",
       "\t<dt>occ_service_broad</dt>\n",
       "\t\t<dd>0</dd>\n",
       "\t<dt>industry</dt>\n",
       "\t\t<dd>0</dd>\n",
       "\t<dt>expyrs</dt>\n",
       "\t\t<dd>0</dd>\n",
       "\t<dt>wkwage</dt>\n",
       "\t\t<dd>0</dd>\n",
       "</dl>\n"
      ],
      "text/latex": [
       "\\begin{description*}\n",
       "\\item[region] 0\n",
       "\\item[statefip] 0\n",
       "\\item[metaread] 0\n",
       "\\item[puma] 0\n",
       "\\item[perwt] 0\n",
       "\\item[age] 0\n",
       "\\item[female] 0\n",
       "\\item[race\\textbackslash{}\\_nonwhite] 0\n",
       "\\item[edyrs] 0\n",
       "\\item[occ\\textbackslash{}\\_managprof] 0\n",
       "\\item[occ\\textbackslash{}\\_techsalad] 0\n",
       "\\item[occ\\textbackslash{}\\_service] 0\n",
       "\\item[occ\\textbackslash{}\\_farm] 0\n",
       "\\item[occ\\textbackslash{}\\_product] 0\n",
       "\\item[occ\\textbackslash{}\\_operator] 0\n",
       "\\item[occ\\textbackslash{}\\_service\\textbackslash{}\\_np] 0\n",
       "\\item[occ\\textbackslash{}\\_service\\textbackslash{}\\_broad] 0\n",
       "\\item[industry] 0\n",
       "\\item[expyrs] 0\n",
       "\\item[wkwage] 0\n",
       "\\end{description*}\n"
      ],
      "text/markdown": [
       "region\n",
       ":   0statefip\n",
       ":   0metaread\n",
       ":   0puma\n",
       ":   0perwt\n",
       ":   0age\n",
       ":   0female\n",
       ":   0race_nonwhite\n",
       ":   0edyrs\n",
       ":   0occ_managprof\n",
       ":   0occ_techsalad\n",
       ":   0occ_service\n",
       ":   0occ_farm\n",
       ":   0occ_product\n",
       ":   0occ_operator\n",
       ":   0occ_service_np\n",
       ":   0occ_service_broad\n",
       ":   0industry\n",
       ":   0expyrs\n",
       ":   0wkwage\n",
       ":   0\n",
       "\n"
      ],
      "text/plain": [
       "           region          statefip          metaread              puma \n",
       "                0                 0                 0                 0 \n",
       "            perwt               age            female     race_nonwhite \n",
       "                0                 0                 0                 0 \n",
       "            edyrs     occ_managprof     occ_techsalad       occ_service \n",
       "                0                 0                 0                 0 \n",
       "         occ_farm       occ_product      occ_operator    occ_service_np \n",
       "                0                 0                 0                 0 \n",
       "occ_service_broad          industry            expyrs            wkwage \n",
       "                0                 0                 0                 0 "
      ]
     },
     "metadata": {},
     "output_type": "display_data"
    }
   ],
   "source": [
    "#count the number of missing values in dataframe\n",
    "sapply(microwage_data, function(x) sum(is.na(x)))"
   ]
  },
  {
   "cell_type": "code",
   "execution_count": 14,
   "metadata": {
    "colab": {
     "base_uri": "https://localhost:8080/",
     "height": 34
    },
    "id": "HEWHxyTWjs6m",
    "outputId": "b67f7a2e-00ee-4e81-d1b2-8897f0466e4d"
   },
   "outputs": [
    {
     "data": {
      "text/html": [
       "<ol class=list-inline>\n",
       "\t<li>'region'</li>\n",
       "\t<li>'statefip'</li>\n",
       "\t<li>'metaread'</li>\n",
       "\t<li>'puma'</li>\n",
       "\t<li>'perwt'</li>\n",
       "\t<li>'age'</li>\n",
       "\t<li>'female'</li>\n",
       "\t<li>'race_nonwhite'</li>\n",
       "\t<li>'edyrs'</li>\n",
       "\t<li>'occ_managprof'</li>\n",
       "\t<li>'occ_techsalad'</li>\n",
       "\t<li>'occ_service'</li>\n",
       "\t<li>'occ_farm'</li>\n",
       "\t<li>'occ_product'</li>\n",
       "\t<li>'occ_operator'</li>\n",
       "\t<li>'occ_service_np'</li>\n",
       "\t<li>'occ_service_broad'</li>\n",
       "\t<li>'industry'</li>\n",
       "\t<li>'expyrs'</li>\n",
       "\t<li>'wkwage'</li>\n",
       "</ol>\n"
      ],
      "text/latex": [
       "\\begin{enumerate*}\n",
       "\\item 'region'\n",
       "\\item 'statefip'\n",
       "\\item 'metaread'\n",
       "\\item 'puma'\n",
       "\\item 'perwt'\n",
       "\\item 'age'\n",
       "\\item 'female'\n",
       "\\item 'race\\_nonwhite'\n",
       "\\item 'edyrs'\n",
       "\\item 'occ\\_managprof'\n",
       "\\item 'occ\\_techsalad'\n",
       "\\item 'occ\\_service'\n",
       "\\item 'occ\\_farm'\n",
       "\\item 'occ\\_product'\n",
       "\\item 'occ\\_operator'\n",
       "\\item 'occ\\_service\\_np'\n",
       "\\item 'occ\\_service\\_broad'\n",
       "\\item 'industry'\n",
       "\\item 'expyrs'\n",
       "\\item 'wkwage'\n",
       "\\end{enumerate*}\n"
      ],
      "text/markdown": [
       "1. 'region'\n",
       "2. 'statefip'\n",
       "3. 'metaread'\n",
       "4. 'puma'\n",
       "5. 'perwt'\n",
       "6. 'age'\n",
       "7. 'female'\n",
       "8. 'race_nonwhite'\n",
       "9. 'edyrs'\n",
       "10. 'occ_managprof'\n",
       "11. 'occ_techsalad'\n",
       "12. 'occ_service'\n",
       "13. 'occ_farm'\n",
       "14. 'occ_product'\n",
       "15. 'occ_operator'\n",
       "16. 'occ_service_np'\n",
       "17. 'occ_service_broad'\n",
       "18. 'industry'\n",
       "19. 'expyrs'\n",
       "20. 'wkwage'\n",
       "\n",
       "\n"
      ],
      "text/plain": [
       " [1] \"region\"            \"statefip\"          \"metaread\"         \n",
       " [4] \"puma\"              \"perwt\"             \"age\"              \n",
       " [7] \"female\"            \"race_nonwhite\"     \"edyrs\"            \n",
       "[10] \"occ_managprof\"     \"occ_techsalad\"     \"occ_service\"      \n",
       "[13] \"occ_farm\"          \"occ_product\"       \"occ_operator\"     \n",
       "[16] \"occ_service_np\"    \"occ_service_broad\" \"industry\"         \n",
       "[19] \"expyrs\"            \"wkwage\"           "
      ]
     },
     "metadata": {},
     "output_type": "display_data"
    }
   ],
   "source": [
    "#display the variable names of the dataframe\n",
    "names(microwage_data)"
   ]
  },
  {
   "cell_type": "markdown",
   "metadata": {},
   "source": [
    "# Removing rows)"
   ]
  },
  {
   "cell_type": "code",
   "execution_count": 17,
   "metadata": {},
   "outputs": [],
   "source": [
    "#removes rows with missing values from micro dataframe\n",
    "microwage_data <- na.omit(microwage_data)"
   ]
  },
  {
   "cell_type": "markdown",
   "metadata": {},
   "source": [
    "# Creating factors"
   ]
  },
  {
   "cell_type": "code",
   "execution_count": 18,
   "metadata": {
    "id": "qn5VEDCgjs3u"
   },
   "outputs": [],
   "source": [
    "#convert \"region\" column to a factor variable\n",
    "microwage_data$region <- as.factor(microwage_data$region)\n",
    "#convert \"statefip\" column to a factor variable\n",
    "microwage_data$statefip <- as.factor(microwage_data$statefip)\n",
    "#convert \"metaread\" column to a factor variable\n",
    "microwage_data$metaread <- as.factor(microwage_data$metaread)\n",
    "#convert industry column to a factor variable\n",
    "microwage_data$industry <- as.factor(microwage_data$industry)\n",
    "#convert \"female\" column to a factor variable\n",
    "microwage_datafemale <- as.factor(microwage_data$female)\n",
    "#convert \"race_nonwhite\" column to a factor variable\n",
    "microwage_data$race_nonwhite <- as.factor(microwage_data$race_nonwhite)\n",
    "#convert \"occ_managprof\" column to a factor variable\n",
    "microwage_data$occ_managprof <- as.factor(microwage_data$occ_managprof)\n",
    "#convert \"occ_techsalad\" column to a factor variable\n",
    "microwage_data$occ_techsalad <- as.factor(microwage_data$occ_techsalad)\n",
    "#convert \"occ_service\" column to a factor variable\n",
    "microwage_data$occ_service <- as.factor(microwage_data$occ_service)\n",
    "#convert \"occ_farm\" column to a factor variable\n",
    "microwage_data$occ_farm <- as.factor(microwage_data$occ_farm)\n",
    "#convert \"occ_operator\" column to a factor variable\n",
    "microwage_data$occ_operator <- as.factor(microwage_data$occ_operator)\n",
    "#convert \"occ_product\" column to a fcator variable\n",
    "microwage_data$occ_product <- as.factor(microwage_data$occ_product)\n",
    "#convert \"occ_service_broad\" column to a factor variable\n",
    "microwage_data$occ_service_broad <- as.factor(microwage_data$occ_service_broad)\n",
    "#convert \"occ_service_np\" column to a factor variable\n",
    "microwage_data$occ_service_np <- as.factor(microwage_data$occ_service_np)"
   ]
  },
  {
   "cell_type": "markdown",
   "metadata": {},
   "source": [
    "# Summary of Data"
   ]
  },
  {
   "cell_type": "code",
   "execution_count": 19,
   "metadata": {
    "colab": {
     "base_uri": "https://localhost:8080/",
     "height": 711
    },
    "id": "kQCiS_fKjs0m",
    "outputId": "acb53fae-5499-47ca-fb4c-68fe00490b70"
   },
   "outputs": [
    {
     "data": {
      "text/plain": [
       "     region          statefip         metaread           puma      \n",
       " 31     :259642   6      :150190   0      :345703   Min.   :  100  \n",
       " 21     :216759   48     :102487   4480   : 38731   1st Qu.:  800  \n",
       " 42     :205545   36     : 84568   1600   : 33875   Median : 1800  \n",
       " 12     :183225   12     : 77316   5600   : 33426   Mean   : 2210  \n",
       " 33     :147875   17     : 59319   8840   : 26348   3rd Qu.: 3202  \n",
       " 22     : 95486   42     : 58074   520    : 22184   Max.   :77777  \n",
       " (Other):240726   (Other):817304   (Other):848991                  \n",
       "     perwt             age            female       race_nonwhite\n",
       " Min.   :   1.0   Min.   :17.00   Min.   :0.0000   0:1133079    \n",
       " 1st Qu.:  64.0   1st Qu.:29.00   1st Qu.:0.0000   1: 216179    \n",
       " Median :  85.0   Median :41.00   Median :0.0000                \n",
       " Mean   : 104.7   Mean   :40.47   Mean   :0.4989                \n",
       " 3rd Qu.: 118.0   3rd Qu.:51.00   3rd Qu.:1.0000                \n",
       " Max.   :1954.0   Max.   :65.00   Max.   :1.0000                \n",
       "                                                                \n",
       "     edyrs       occ_managprof occ_techsalad occ_service occ_farm   \n",
       " Min.   : 0.00   0:919055      0:947061      0:1127309   0:1337585  \n",
       " 1st Qu.:12.00   1:430203      1:402197      1: 221949   1:  11673  \n",
       " Median :13.48                                                      \n",
       " Mean   :13.65                                                      \n",
       " 3rd Qu.:16.15                                                      \n",
       " Max.   :18.00                                                      \n",
       "                                                                    \n",
       " occ_product occ_operator occ_service_np occ_service_broad    industry     \n",
       " 0:1224645   0:1190635    0:1145306      0:1004956         842    : 99025  \n",
       " 1: 124613   1: 158623    1: 203952      1: 344302         60     : 81809  \n",
       "                                                           641    : 76430  \n",
       "                                                           831    : 64327  \n",
       "                                                           850    : 40686  \n",
       "                                                           840    : 33908  \n",
       "                                                           (Other):953073  \n",
       "     expyrs          wkwage         \n",
       " Min.   : 0.00   Min.   :    2.206  \n",
       " 1st Qu.: 9.00   1st Qu.:  350.000  \n",
       " Median :21.01   Median :  647.059  \n",
       " Mean   :20.68   Mean   :  864.073  \n",
       " 3rd Qu.:31.52   3rd Qu.: 1078.431  \n",
       " Max.   :49.00   Max.   :15000.000  \n",
       "                                    "
      ]
     },
     "metadata": {},
     "output_type": "display_data"
    }
   ],
   "source": [
    "#generate summary statistics for each variable in the dataframe\n",
    "summary(microwage_data)"
   ]
  },
  {
   "cell_type": "markdown",
   "metadata": {},
   "source": [
    "# Visualization Of Variable"
   ]
  },
  {
   "cell_type": "code",
   "execution_count": 21,
   "metadata": {},
   "outputs": [
    {
     "data": {
      "image/png": "[encoded data removed]",
      "text/plain": [
       "Plot with title \"Age\""
      ]
     },
     "metadata": {
      "image/png": {
       "height": 420,
       "width": 420
      }
     },
     "output_type": "display_data"
    },
    {
     "data": {
      "image/png": "[encoded data removed]",
      "text/plain": [
       "Plot with title \"Years of Experience\""
      ]
     },
     "metadata": {
      "image/png": {
       "height": 420,
       "width": 420
      }
     },
     "output_type": "display_data"
    }
   ],
   "source": [
    "#set the layout of plots to 2 rows and to 2 columns\n",
    "par(mfrow=c(2,2))\n",
    "#generate histogram for the \"wkwage\" variable\n",
    "histogram(microwage_data$wkwage)\n",
    "#generate a boxplot for the \"wkwage\" variable\n",
    "boxplot(microwage_data$wkwage, main='Average weekly Wage')\n",
    "#generate histogram for the \"age\" variable\n",
    "histogram(microwage_data$age)\n",
    "#generate a boxplot for the variable \"age\"\n",
    "boxplot(microwage_data$age, main='Age')\n",
    "#generate histogram for the \"edyrs\" variable\n",
    "histogram(microwage_data$edyrs)\n",
    "#generate a boxplot for the variable \"years in education\"\n",
    "boxplot(microwage_data$edyrs, main='Years in Education')\n",
    "#generate histogram for the\"expyrs\" variable\n",
    "histogram(microwage_data$expyrs)\n",
    "#generate a boxplot for the \"expyrs\" variable\n",
    "boxplot(microwage_data$expyrs, main='Years of Experience')"
   ]
  },
  {
   "cell_type": "markdown",
   "metadata": {},
   "source": [
    "# Summary Data Age,Wkwage,Edpyrs,Expyrs"
   ]
  },
  {
   "cell_type": "code",
   "execution_count": 22,
   "metadata": {},
   "outputs": [
    {
     "data": {
      "text/plain": [
       "   Min. 1st Qu.  Median    Mean 3rd Qu.    Max. \n",
       "  17.00   29.00   41.00   40.47   51.00   65.00 "
      ]
     },
     "metadata": {},
     "output_type": "display_data"
    }
   ],
   "source": [
    "#generate summary statistics for \"age\" variable in dataframe\n",
    "summary(microwage_data$age)"
   ]
  },
  {
   "cell_type": "code",
   "execution_count": 23,
   "metadata": {},
   "outputs": [
    {
     "data": {
      "text/plain": [
       "     Min.   1st Qu.    Median      Mean   3rd Qu.      Max. \n",
       "    2.206   350.000   647.059   864.073  1078.431 15000.000 "
      ]
     },
     "metadata": {},
     "output_type": "display_data"
    }
   ],
   "source": [
    "#generate summary statistics for the variable \"wkwage\"\n",
    "summary(microwage_data$wkwage)"
   ]
  },
  {
   "cell_type": "code",
   "execution_count": 24,
   "metadata": {},
   "outputs": [
    {
     "data": {
      "text/plain": [
       "   Min. 1st Qu.  Median    Mean 3rd Qu.    Max. \n",
       "   0.00   12.00   13.48   13.65   16.15   18.00 "
      ]
     },
     "metadata": {},
     "output_type": "display_data"
    }
   ],
   "source": [
    "#generate summary statistics for the variable \"edpyrs\"\n",
    "summary(microwage_data$edyrs)"
   ]
  },
  {
   "cell_type": "code",
   "execution_count": 25,
   "metadata": {},
   "outputs": [
    {
     "data": {
      "text/plain": [
       "   Min. 1st Qu.  Median    Mean 3rd Qu.    Max. \n",
       "   0.00    9.00   21.01   20.68   31.52   49.00 "
      ]
     },
     "metadata": {},
     "output_type": "display_data"
    }
   ],
   "source": [
    "#generate summary statistics for the variable \"expyrs\"\n",
    "summary(microwage_data$expyrs)"
   ]
  },
  {
   "cell_type": "markdown",
   "metadata": {},
   "source": [
    "# Visualisation of Relation B/W Dependent & Independent Variables"
   ]
  },
  {
   "cell_type": "code",
   "execution_count": 27,
   "metadata": {},
   "outputs": [
    {
     "data": {
      "image/png": "[encoded data removed]",
      "text/plain": [
       "Plot with title \"cor(wkwage, edyrs) = 0.345\""
      ]
     },
     "metadata": {
      "image/png": {
       "height": 420,
       "width": 420
      }
     },
     "output_type": "display_data"
    }
   ],
   "source": [
    "#Set the layout of plots to 2 rows and 2 columns\n",
    "par(mfrow=c(2,2))\n",
    "#Calculate and display correlation between 'wkwage' and 'age'\n",
    "titleCT <- paste('cor(wkwage, age) =', format(round(cor(microwage_data$wkwage,microwage_data$age),3),5))\n",
    "#Plot 'wkwage' and 'age' and use estimated correlation as title\n",
    "plot(wkwage ~ age, data=microwage_data, main=titleCT)\n",
    "#Add regression line to the plot\n",
    "abline(lm(wkwage ~ age, data=microwage_data), col='red', lw=3)\n",
    "\n",
    "#Calculate and display correlation between 'wkwage' and 'expyrs'\n",
    "titleCT <- paste('cor(wkwage, expyrs) =', format(round(cor(microwage_data$wkwage,microwage_data$expyrs),3),5))\n",
    "#Plot 'wkwage' against 'expyrs' and with calculated correlation as title\n",
    "plot(wkwage ~ expyrs, data=microwage_data, main=titleCT)\n",
    "#Add regression line to the plot\n",
    "abline(lm(wkwage ~ expyrs, data=microwage_data), col='darkgreen', lw=3)\n",
    "\n",
    "#Calculate and display correlation between 'wkwage' and 'edyrs'\n",
    "titleCT <- paste('cor(wkwage, edyrs) =', format(round(cor(microwage_data$wkwage,microwage_data$edyrs),3),5))\n",
    "#Plot 'wkwage' against 'edyrs' and with calculated correlation as title\n",
    "plot(wkwage ~ edyrs, data=microwage_data, main=titleCT)\n",
    "#Add regression line to the plot\n",
    "abline(lm(wkwage ~ edyrs, data=microwage_data), col='blue', lw=3)"
   ]
  },
  {
   "cell_type": "markdown",
   "metadata": {
    "id": "P2erDMtKyq92"
   },
   "source": [
    "# Build Simple Linear Regression Model"
   ]
  },
  {
   "cell_type": "code",
   "execution_count": 28,
   "metadata": {
    "colab": {
     "base_uri": "https://localhost:8080/",
     "height": 329
    },
    "id": "3GRI1nljBFle",
    "outputId": "1770cafd-dfe9-40b6-c446-b71826dd2a4c"
   },
   "outputs": [
    {
     "data": {
      "text/plain": [
       "\n",
       "Call:\n",
       "lm(formula = wkwage ~ age, data = microwage_data)\n",
       "\n",
       "Residuals:\n",
       "    Min      1Q  Median      3Q     Max \n",
       "-1264.2  -443.3  -193.1   196.8 14028.7 \n",
       "\n",
       "Coefficients:\n",
       "            Estimate Std. Error t value Pr(>|t|)    \n",
       "(Intercept) 200.0960     2.3493   85.17   <2e-16 ***\n",
       "age          16.4082     0.0552  297.26   <2e-16 ***\n",
       "---\n",
       "Signif. codes:  0 '***' 0.001 '**' 0.01 '*' 0.05 '.' 0.1 ' ' 1\n",
       "\n",
       "Residual standard error: 845.7 on 1349256 degrees of freedom\n",
       "Multiple R-squared:  0.06147,\tAdjusted R-squared:  0.06147 \n",
       "F-statistic: 8.837e+04 on 1 and 1349256 DF,  p-value: < 2.2e-16\n"
      ]
     },
     "metadata": {},
     "output_type": "display_data"
    },
    {
     "data": {
      "image/png": "[encoded data removed]",
      "text/plain": [
       "Plot with title \"\""
      ]
     },
     "metadata": {
      "image/png": {
       "height": 420,
       "width": 420
      }
     },
     "output_type": "display_data"
    }
   ],
   "source": [
    "#perform simple linear regression (SLR) with wkwage as dependent variable and age as independent variable\n",
    "#using lm() function with specified function and data provided in microwage_data\n",
    "SLR = lm(wkwage ~ age, data = microwage_data)\n",
    "#Display the summary statistics of SLR Mode including coefficents,standard errors,t-values,p-values\n",
    "#residual standard error,R-squared values,F-static\n",
    "summary(SLR)\n",
    "\n",
    "#set the layout of plots to 2 rows and 2 columns to display diagnistics plot for the (SLR) model\n",
    "par(mfrow=c(2,2))\n",
    "#generate diagnostics plot for the SLR model which includes residual plots,QQ plots,and leverage plots\n",
    "plot(SLR)\n",
    "#add regression line to the diagnistic plot to visualize the relationship between age and wkwage\n",
    "abline(SLR, col=2, lw=3)"
   ]
  },
  {
   "cell_type": "markdown",
   "metadata": {},
   "source": [
    "# Build multiple linear Regression Model"
   ]
  },
  {
   "cell_type": "code",
   "execution_count": 29,
   "metadata": {
    "colab": {
     "base_uri": "https://localhost:8080/",
     "height": 347
    },
    "id": "g9ZWx87OBFiq",
    "outputId": "7e561626-566e-4140-c05e-287ceaa2819b"
   },
   "outputs": [
    {
     "data": {
      "text/plain": [
       "\n",
       "Call:\n",
       "lm(formula = wkwage ~ age + edyrs + expyrs, data = microwage_data)\n",
       "\n",
       "Residuals:\n",
       "    Min      1Q  Median      3Q     Max \n",
       "-1765.3  -397.1  -119.9   196.5 14323.7 \n",
       "\n",
       "Coefficients:\n",
       "              Estimate Std. Error t value Pr(>|t|)    \n",
       "(Intercept) -2792.7118     8.6491 -322.89   <2e-16 ***\n",
       "age           192.8916     0.8581  224.78   <2e-16 ***\n",
       "edyrs         -31.2071     0.7173  -43.51   <2e-16 ***\n",
       "expyrs       -180.0302     0.8636 -208.46   <2e-16 ***\n",
       "---\n",
       "Signif. codes:  0 '***' 0.001 '**' 0.01 '*' 0.05 '.' 0.1 ' ' 1\n",
       "\n",
       "Residual standard error: 784.8 on 1349254 degrees of freedom\n",
       "Multiple R-squared:  0.1918,\tAdjusted R-squared:  0.1918 \n",
       "F-statistic: 1.067e+05 on 3 and 1349254 DF,  p-value: < 2.2e-16\n"
      ]
     },
     "metadata": {},
     "output_type": "display_data"
    },
    {
     "name": "stderr",
     "output_type": "stream",
     "text": [
      "Warning message in abline(MLR_1, col = 2, lw = 3):\n",
      "\"only using the first two of 4 regression coefficients\"\n"
     ]
    },
    {
     "data": {
      "image/png": "[encoded data removed]",
      "text/plain": [
       "Plot with title \"\""
      ]
     },
     "metadata": {
      "image/png": {
       "height": 420,
       "width": 420
      }
     },
     "output_type": "display_data"
    }
   ],
   "source": [
    "#Perfom Multiple Linear Regression(MLR) with 'wkwage(dependendent variable)' and 'age, edyrs and expyrs (independent variables)'\n",
    "#using lm() function with specified fuction and data provided in microwage_data\n",
    "MLR_1 = lm(wkwage ~ age + edyrs + expyrs , data = microwage_data)\n",
    "#Display the summary of MLR_1 model includes coefficients,standard eerors, t-values,p-values\n",
    "summary(MLR_1)\n",
    "\n",
    "#set the layout of plots to 2 rows and 2 columns to display the diagnostic plots of model MLR_1\n",
    "par(mfrow=c(2,2))\n",
    "# generate diagnostics plot for MLR_1 model inclues residual plots , QQ PLOTS , leverage plots\n",
    "plot(MLR_1)\n",
    "#add regression line to  the diagnostic plot to visulaize the relationship between independent variables and dependent variable (wkwage)\n",
    "abline(MLR_1, col=2, lw=3)"
   ]
  },
  {
   "cell_type": "code",
   "execution_count": 29,
   "metadata": {
    "colab": {
     "base_uri": "https://localhost:8080/",
     "height": 329
    },
    "id": "kiiVGGGBBFfz",
    "outputId": "27008076-b38e-4862-95b7-a59b850611db"
   },
   "outputs": [
    {
     "data": {
      "text/plain": [
       "\n",
       "Call:\n",
       "lm(formula = wkwage ~ age + edyrs + female + expyrs, data = micro)\n",
       "\n",
       "Residuals:\n",
       "    Min      1Q  Median      3Q     Max \n",
       "-1942.7  -378.2  -103.1   199.1 14143.6 \n",
       "\n",
       "Coefficients:\n",
       "              Estimate Std. Error t value Pr(>|t|)    \n",
       "(Intercept) -2649.3392     8.4210 -314.61   <2e-16 ***\n",
       "age           190.8437     0.8340  228.83   <2e-16 ***\n",
       "edyrs         -25.4097     0.6974  -36.44   <2e-16 ***\n",
       "female1      -370.4753     1.3157 -281.58   <2e-16 ***\n",
       "expyrs       -177.8443     0.8394 -211.88   <2e-16 ***\n",
       "---\n",
       "Signif. codes:  0 '***' 0.001 '**' 0.01 '*' 0.05 '.' 0.1 ' ' 1\n",
       "\n",
       "Residual standard error: 762.7 on 1349253 degrees of freedom\n",
       "Multiple R-squared:  0.2366,\tAdjusted R-squared:  0.2366 \n",
       "F-statistic: 1.046e+05 on 4 and 1349253 DF,  p-value: < 2.2e-16\n"
      ]
     },
     "metadata": {},
     "output_type": "display_data"
    },
    {
     "name": "stderr",
     "output_type": "stream",
     "text": [
      "Warning message in abline(MLR_2, col = 2, lw = 3):\n",
      "\"only using the first two of 5 regression coefficients\"\n"
     ]
    },
    {
     "data": {
      "image/png": "[encoded data removed]",
      "text/plain": [
       "Plot with title \"\""
      ]
     },
     "metadata": {
      "image/png": {
       "height": 420,
       "width": 420
      }
     },
     "output_type": "display_data"
    }
   ],
   "source": [
    "#fit Multiple Linear Regression(MLR_2) with 'wkwage(dependendent variable)' and 'age, edyrs, female and expyrs (independent variables)'\n",
    "#using lm() function wih specified formula and data microwage\n",
    "MLR_2 = lm(wkwage ~ age + edyrs + female + expyrs , data = microwage_data)\n",
    "#Display the summary statistics of MLR_2 Model, includes coefficient, standard errors, t-values,pvalues\n",
    "summary(MLR_2)\n",
    "\n",
    "#set the layout of plots to 2 rows and 2 columns to display the diagnostic plot of MLR_2 model\n",
    "par(mfrow=c(2,2))\n",
    "#generate diagnostic plot for model MLR_2 including residual plot, QQ plot , leverage plot\n",
    "plot(MLR_2)\n",
    "#add regression line to the diagnostic plot to visualize the relationship between independent variables and dependent variable wkwage\n",
    "abline(MLR_2, col=2, lw=3)"
   ]
  },
  {
   "cell_type": "code",
   "execution_count": 30,
   "metadata": {
    "colab": {
     "base_uri": "https://localhost:8080/",
     "height": 347
    },
    "id": "tckgyEJoBFc7",
    "outputId": "5a67eb96-e350-42aa-8bdb-3caf55947ed6"
   },
   "outputs": [
    {
     "data": {
      "text/plain": [
       "\n",
       "Call:\n",
       "lm(formula = wkwage ~ region + age + edyrs + female + race_nonwhite + \n",
       "    perwt + expyrs + occ_managprof + occ_techsalad + occ_service + \n",
       "    occ_farm + occ_operator + occ_service_broad + occ_service_np, \n",
       "    data = microwage_data)\n",
       "\n",
       "Residuals:\n",
       "    Min      1Q  Median      3Q     Max \n",
       "-2060.0  -365.0   -92.6   194.3 14124.6 \n",
       "\n",
       "Coefficients:\n",
       "                     Estimate Std. Error  t value Pr(>|t|)    \n",
       "(Intercept)        -1.549e+03  9.859e+00 -157.102  < 2e-16 ***\n",
       "region12           -7.493e+00  3.353e+00   -2.235   0.0254 *  \n",
       "region21           -1.054e+02  3.284e+00  -32.080  < 2e-16 ***\n",
       "region22           -1.620e+02  3.747e+00  -43.238  < 2e-16 ***\n",
       "region31           -7.406e+01  3.225e+00  -22.964  < 2e-16 ***\n",
       "region32           -1.475e+02  3.914e+00  -37.690  < 2e-16 ***\n",
       "region33           -8.149e+01  3.465e+00  -23.520  < 2e-16 ***\n",
       "region41           -1.009e+02  3.753e+00  -26.885  < 2e-16 ***\n",
       "region42            1.402e+01  3.311e+00    4.234 2.29e-05 ***\n",
       "age                 1.319e+02  8.545e-01  154.372  < 2e-16 ***\n",
       "edyrs              -1.744e+01  6.881e-01  -25.349  < 2e-16 ***\n",
       "female             -3.835e+02  1.385e+00 -276.827  < 2e-16 ***\n",
       "race_nonwhite1     -5.020e+01  1.781e+00  -28.189  < 2e-16 ***\n",
       "perwt              -2.104e-03  8.777e-03   -0.240   0.8105    \n",
       "expyrs             -1.201e+02  8.586e-01 -139.912  < 2e-16 ***\n",
       "occ_managprof1      3.095e+02  2.696e+00  114.793  < 2e-16 ***\n",
       "occ_techsalad1      4.647e+01  2.620e+00   17.737  < 2e-16 ***\n",
       "occ_service1        1.827e+02  5.960e+00   30.656  < 2e-16 ***\n",
       "occ_farm1          -2.113e+02  7.249e+00  -29.152  < 2e-16 ***\n",
       "occ_operator1      -7.837e+01  2.906e+00  -26.966  < 2e-16 ***\n",
       "occ_service_broad1 -1.263e+02  2.312e+00  -54.641  < 2e-16 ***\n",
       "occ_service_np1    -2.408e+02  6.274e+00  -38.385  < 2e-16 ***\n",
       "---\n",
       "Signif. codes:  0 '***' 0.001 '**' 0.01 '*' 0.05 '.' 0.1 ' ' 1\n",
       "\n",
       "Residual standard error: 744.5 on 1349236 degrees of freedom\n",
       "Multiple R-squared:  0.2727,\tAdjusted R-squared:  0.2727 \n",
       "F-statistic: 2.409e+04 on 21 and 1349236 DF,  p-value: < 2.2e-16\n"
      ]
     },
     "metadata": {},
     "output_type": "display_data"
    },
    {
     "name": "stderr",
     "output_type": "stream",
     "text": [
      "Warning message in abline(MLR_3, col = 2, lw = 3):\n",
      "\"only using the first two of 22 regression coefficients\"\n"
     ]
    },
    {
     "data": {
      "image/png": "[encoded data removed]",
      "text/plain": [
       "Plot with title \"\""
      ]
     },
     "metadata": {
      "image/png": {
       "height": 420,
       "width": 420
      }
     },
     "output_type": "display_data"
    }
   ],
   "source": [
    "#Perform multiple Linear Regression Model(MLR_3) with 'wkwage' as dependent variable and a larger set of independent variables region,age ,edyrs,female,race_nonwhite, perwt\n",
    "#expyrs,occ_managprof,occ_techsalad,occ_service,occ_farm,0cc_operator,occ_service_broad,occ_service_np\n",
    "#using lm() function specified variables of data microwage\n",
    "MLR_3 = lm(wkwage ~ region + age + edyrs + female + race_nonwhite + perwt +\n",
    "            expyrs + occ_managprof + occ_techsalad + occ_service + occ_farm +\n",
    "            occ_operator + occ_service_broad + occ_service_np, data = microwage_data)\n",
    " #Display the summary statistics of MLR_3 model ,including coefficients, standard errors, t-values, p-values\n",
    "summary(MLR_3)\n",
    "\n",
    "#set the layout of plots to 2 rows and 2 columns to display the diagnostics plots of MLR_3 model\n",
    "par(mfrow=c(2,2))\n",
    "#generate diagnostic plot for the MLR_3 model ,including residual plot , QQ plot,leverage plot\n",
    "plot(MLR_3)\n",
    "#add regression line to diagnostic plot to visualize the relationship between the set of independent variables and dependent variables\n",
    "abline(MLR_3, col=2, lw=3)"
   ]
  },
  {
   "cell_type": "markdown",
   "metadata": {
    "colab": {
     "base_uri": "https://localhost:8080/",
     "height": 763
    },
    "id": "G3BEnAklBFZ-",
    "outputId": "2d2ef1b2-90b5-4bf6-da07-7348e44defc4"
   },
   "source": [
    "# Removing Outliers"
   ]
  },
  {
   "cell_type": "code",
   "execution_count": 31,
   "metadata": {},
   "outputs": [],
   "source": [
    "#fit a multiple linear regression model (MLR_3) where the natural logarithm of wkwage is regressed\n",
    "#on different predictor variables region , age, edyrs, female, race_nonwhite,perwt,expyrs,occ_mangprof,occ_techsalad,occ_service,occ_farm,occ_operator,occ_service_board\n",
    "#occ_service_np, using the provided data micowage\n",
    "outliers_model <- lm(log(wkwage) ~ region + age + edyrs + female + race_nonwhite + perwt +\n",
    "            expyrs + occ_managprof + occ_techsalad + occ_service + occ_farm +\n",
    "            occ_operator + occ_service_broad + occ_service_np , data = microwage_data)\n"
   ]
  },
  {
   "cell_type": "code",
   "execution_count": 32,
   "metadata": {
    "colab": {
     "base_uri": "https://localhost:8080/",
     "height": 382
    },
    "id": "JYNUUiJjBFVz",
    "outputId": "e5084981-a4bb-4ae1-bd94-2ed6eeccf25d"
   },
   "outputs": [],
   "source": [
    "# compute cook's distance model to identify each observation based on the outliers_model stored in influence_measure\n",
    "Influence_measure <- cooks.distance(outliers_model)\n"
   ]
  },
  {
   "cell_type": "code",
   "execution_count": 33,
   "metadata": {},
   "outputs": [],
   "source": [
    "# calculate a limit for cook's distance to detect the influential observation\n",
    "limit <- 4 / (nrow(microwage_data) - length(outliers_model$coefficients) - 1)"
   ]
  },
  {
   "cell_type": "code",
   "execution_count": 34,
   "metadata": {},
   "outputs": [],
   "source": [
    "#identify outliers which based on the cook's distance exceeding the limit\n",
    "Cook_outliers <- which(Influence_measure > limit)"
   ]
  },
  {
   "cell_type": "code",
   "execution_count": 35,
   "metadata": {},
   "outputs": [],
   "source": [
    "#subsets the microwage_data dataset to remove the influential outliers\n",
    "outliers_micros_without_cooks <- microwage_data[-Cook_outliers, ]"
   ]
  },
  {
   "cell_type": "code",
   "execution_count": 36,
   "metadata": {},
   "outputs": [],
   "source": [
    "#calculate the first quartile(w1),third quartle(W3),and interquartle range(IQR) of the wkwage variable in outliers_micros_without_cooks$wage dataset\n",
    "W1 <- quantile(outliers_micros_without_cooks$wkwage, 0.25)\n",
    "W3 <- quantile(outliers_micros_without_cooks$wkwage, 0.75)\n",
    "IQR <- W3 - W1\n",
    "#determine the  lower and upper bounds for outliers based on the (IQR) method\n",
    "lower_bound <- W1 - 1.5 * IQR\n",
    "upper_bound <- W3 + 1.5 * IQR"
   ]
  },
  {
   "cell_type": "code",
   "execution_count": 37,
   "metadata": {
    "colab": {
     "base_uri": "https://localhost:8080/",
     "height": 382
    },
    "id": "h2fFaqTbILaP",
    "outputId": "08da5bd6-802c-4b3d-a674-c03e51823226"
   },
   "outputs": [],
   "source": [
    "#identify the outliers based on the lower and upper bounds computed using the IQR method\n",
    "outliers_iqr <- which(outliers_micros_without_cooks$wkwage < lower_bound | outliers_micros_without_cooks$wkwage > upper_bound)"
   ]
  },
  {
   "cell_type": "code",
   "execution_count": 38,
   "metadata": {},
   "outputs": [],
   "source": [
    "# create a preprocessed_dataset by removing outliers detected by using (IQR) method\n",
    "Preprocessed_dataset <-outliers_micros_without_cooks[-outliers_iqr, ]"
   ]
  },
  {
   "cell_type": "code",
   "execution_count": 39,
   "metadata": {},
   "outputs": [],
   "source": [
    "#fit a multiple linear regression model using lm() function where the natural logarithm of wkwage is regressed\n",
    "#on various predictor variables including region,age,edyrs,female,race_nonwhite,perwt,expyrs,and various occupation indicators\n",
    "#using preprpcessed_dataset obtained after removing\n",
    "MLR_clean <- lm(log(wkwage) ~ region + age + edyrs + female + race_nonwhite + perwt +\n",
    "            expyrs + occ_managprof + occ_techsalad + occ_service + occ_farm +\n",
    "            occ_operator + occ_service_broad + occ_service_np ,  data = Preprocessed_dataset)"
   ]
  },
  {
   "cell_type": "code",
   "execution_count": 42,
   "metadata": {},
   "outputs": [
    {
     "data": {
      "text/plain": [
       "\n",
       "Call:\n",
       "lm(formula = log(wkwage) ~ region + age + edyrs + female + race_nonwhite + \n",
       "    perwt + expyrs + occ_managprof + occ_techsalad + occ_service + \n",
       "    occ_farm + occ_operator + occ_service_broad + occ_service_np, \n",
       "    data = cleaned_dataset)\n",
       "\n",
       "Residuals:\n",
       "     Min       1Q   Median       3Q      Max \n",
       "-2.31606 -0.34219  0.06313  0.40239  1.92119 \n",
       "\n",
       "Coefficients:\n",
       "                     Estimate Std. Error  t value Pr(>|t|)    \n",
       "(Intercept)         4.042e+00  8.399e-03  481.255   <2e-16 ***\n",
       "region12           -5.886e-02  2.810e-03  -20.950   <2e-16 ***\n",
       "region21           -1.246e-01  2.743e-03  -45.429   <2e-16 ***\n",
       "region22           -1.467e-01  3.115e-03  -47.082   <2e-16 ***\n",
       "region31           -1.088e-01  2.701e-03  -40.265   <2e-16 ***\n",
       "region32           -1.493e-01  3.251e-03  -45.914   <2e-16 ***\n",
       "region33           -1.199e-01  2.892e-03  -41.443   <2e-16 ***\n",
       "region41           -7.298e-02  3.131e-03  -23.308   <2e-16 ***\n",
       "region42           -3.013e-02  2.780e-03  -10.839   <2e-16 ***\n",
       "age                 1.327e-01  7.565e-04  175.434   <2e-16 ***\n",
       "edyrs              -2.084e-02  6.224e-04  -33.488   <2e-16 ***\n",
       "female1            -3.101e-01  1.146e-03 -270.534   <2e-16 ***\n",
       "race_nonwhite1     -3.402e-03  1.459e-03   -2.331   0.0197 *  \n",
       "perwt               2.483e-04  7.248e-06   34.256   <2e-16 ***\n",
       "expyrs             -1.150e-01  7.592e-04 -151.455   <2e-16 ***\n",
       "occ_managprof1      8.580e-02  2.191e-03   39.157   <2e-16 ***\n",
       "occ_techsalad1     -1.549e-01  2.110e-03  -73.423   <2e-16 ***\n",
       "occ_service1        2.559e-01  4.995e-03   51.229   <2e-16 ***\n",
       "occ_farm1          -4.605e-01  6.873e-03  -67.003   <2e-16 ***\n",
       "occ_operator1      -1.292e-01  2.330e-03  -55.434   <2e-16 ***\n",
       "occ_service_broad1 -3.022e-01  1.878e-03 -160.886   <2e-16 ***\n",
       "occ_service_np1    -5.563e-01  5.249e-03 -105.975   <2e-16 ***\n",
       "---\n",
       "Signif. codes:  0 '***' 0.001 '**' 0.01 '*' 0.05 '.' 0.1 ' ' 1\n",
       "\n",
       "Residual standard error: 0.5776 on 1212064 degrees of freedom\n",
       "Multiple R-squared:  0.4269,\tAdjusted R-squared:  0.4269 \n",
       "F-statistic: 4.299e+04 on 21 and 1212064 DF,  p-value: < 2.2e-16\n"
      ]
     },
     "metadata": {},
     "output_type": "display_data"
    }
   ],
   "source": [
    "#display the summary statistics of the cleaned multiple linear regression model\n",
    "summary(MLR_clean)"
   ]
  },
  {
   "cell_type": "markdown",
   "metadata": {},
   "source": [
    "# Using Quadratic model for transformation"
   ]
  },
  {
   "cell_type": "code",
   "execution_count": 40,
   "metadata": {},
   "outputs": [
    {
     "data": {
      "text/plain": [
       "\n",
       "Call:\n",
       "lm(formula = sqrt_wkwage ~ region + age + edyrs + female + race_nonwhite + \n",
       "    perwt + expyrs + occ_managprof + occ_techsalad + occ_service + \n",
       "    occ_farm + occ_operator + occ_service_broad + occ_service_np, \n",
       "    data = Preprocessed_dataset)\n",
       "\n",
       "Residuals:\n",
       "     Min       1Q   Median       3Q      Max \n",
       "-22.6839  -4.5412  -0.1253   4.4356  27.0689 \n",
       "\n",
       "Coefficients:\n",
       "                     Estimate Std. Error  t value Pr(>|t|)    \n",
       "(Intercept)        -5.279e-01  9.692e-02   -5.446 5.15e-08 ***\n",
       "region12           -5.654e-01  3.242e-02  -17.439  < 2e-16 ***\n",
       "region21           -1.344e+00  3.166e-02  -42.453  < 2e-16 ***\n",
       "region22           -1.816e+00  3.595e-02  -50.510  < 2e-16 ***\n",
       "region31           -1.236e+00  3.118e-02  -39.654  < 2e-16 ***\n",
       "region32           -1.872e+00  3.752e-02  -49.892  < 2e-16 ***\n",
       "region33           -1.390e+00  3.338e-02  -41.636  < 2e-16 ***\n",
       "region41           -9.583e-01  3.613e-02  -26.520  < 2e-16 ***\n",
       "region42           -2.031e-01  3.208e-02   -6.332 2.43e-10 ***\n",
       "age                 1.442e+00  8.730e-03  165.164  < 2e-16 ***\n",
       "edyrs              -1.362e-01  7.182e-03  -18.964  < 2e-16 ***\n",
       "female             -3.851e+00  1.323e-02 -291.110  < 2e-16 ***\n",
       "race_nonwhite1     -1.768e-01  1.684e-02  -10.500  < 2e-16 ***\n",
       "perwt               1.401e-03  8.364e-05   16.754  < 2e-16 ***\n",
       "expyrs             -1.255e+00  8.761e-03 -143.290  < 2e-16 ***\n",
       "occ_managprof1      1.728e+00  2.529e-02   68.334  < 2e-16 ***\n",
       "occ_techsalad1     -1.526e+00  2.435e-02  -62.660  < 2e-16 ***\n",
       "occ_service1        3.503e+00  5.764e-02   60.783  < 2e-16 ***\n",
       "occ_farm1          -5.640e+00  7.931e-02  -71.109  < 2e-16 ***\n",
       "occ_operator1      -1.744e+00  2.689e-02  -64.854  < 2e-16 ***\n",
       "occ_service_broad1 -2.959e+00  2.168e-02 -136.505  < 2e-16 ***\n",
       "occ_service_np1    -6.602e+00  6.057e-02 -108.989  < 2e-16 ***\n",
       "---\n",
       "Signif. codes:  0 '***' 0.001 '**' 0.01 '*' 0.05 '.' 0.1 ' ' 1\n",
       "\n",
       "Residual standard error: 6.665 on 1212064 degrees of freedom\n",
       "Multiple R-squared:  0.4221,\tAdjusted R-squared:  0.4221 \n",
       "F-statistic: 4.216e+04 on 21 and 1212064 DF,  p-value: < 2.2e-16\n"
      ]
     },
     "metadata": {},
     "output_type": "display_data"
    }
   ],
   "source": [
    "#determine the wkwage variable square root and add a new column called sqrt_wkwage to the preprocessed_dataset\n",
    "Preprocessed_dataset$sqrt_wkwage <- sqrt(Preprocessed_dataset$wkwage)\n",
    "\n",
    "#fit the multi linear regression model with the transformed sqrt_wkwage variable as dependent variable\n",
    "# determine the independent variables from preprocessed_dataset to fit in a multi linear regression model\n",
    "MLR_model_sqrt <- lm(sqrt_wkwage ~ region + age + edyrs + female + race_nonwhite + perwt +\n",
    "            expyrs + occ_managprof + occ_techsalad + occ_service + occ_farm +\n",
    "            occ_operator + occ_service_broad + occ_service_np, data = Preprocessed_dataset)\n",
    "\n",
    "# Display summary statistics of the multi linear regression model (lm_model_sqrt)\n",
    "summary(MLR_model_sqrt)"
   ]
  },
  {
   "cell_type": "code",
   "execution_count": 41,
   "metadata": {},
   "outputs": [
    {
     "name": "stderr",
     "output_type": "stream",
     "text": [
      "Warning message in abline(MLR_model_sqrt, col = 2, lw = 3):\n",
      "\"only using the first two of 22 regression coefficients\"\n"
     ]
    },
    {
     "data": {
      "image/png": "[encoded data removed]",
      "text/plain": [
       "Plot with title \"\""
      ]
     },
     "metadata": {
      "image/png": {
       "height": 420,
       "width": 420
      }
     },
     "output_type": "display_data"
    }
   ],
   "source": [
    "#set the layout of plots to 2 rows and 2 columns\n",
    "par(mfrow=c(2,2))\n",
    "#generate diagnostic plot such as residual plot , QQ plot, and leverage plot for the model (lm_model_sqrt)\n",
    "plot(MLR_model_sqrt)\n",
    "#add regression line to the diagnostic plot to visualize the relationship between independent variables and dependent variables\n",
    "abline(MLR_model_sqrt, col=2, lw=3)"
   ]
  }
 ],
 "metadata": {
  "colab": {
   "provenance": []
  },
  "kernelspec": {
   "display_name": "R",
   "language": "R",
   "name": "ir"
  },
  "language_info": {
   "codemirror_mode": "r",
   "file_extension": ".r",
   "mimetype": "text/x-r-source",
   "name": "R",
   "pygments_lexer": "r",
   "version": "3.6.1"
  }
 },
 "nbformat": 4,
 "nbformat_minor": 4
}
